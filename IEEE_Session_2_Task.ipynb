{
  "cells": [
    {
      "cell_type": "markdown",
      "metadata": {
        "id": "QJAEpc9Dl1LM"
      },
      "source": [
        "In this notebook, we're going to use Pytorch to train a linear regression model. \n",
        "\n",
        "This task won't be exploring the real power of deep neural networks (we won't have any hidden layers so it's not \"deep\" and it can't represent nonlinear relationships in the data.\n",
        "\n",
        "The code, however, is very much similar to what deep neural network code looks like, that is, most of the code you use here you will be useful when writing code for a deep neural network. \n",
        "\n",
        "This task just helps get you familiar with the main steps of defining and training a neural network in Pytorch."
      ]
    },
    {
      "cell_type": "markdown",
      "metadata": {
        "id": "wjcVBKkeM1gg"
      },
      "source": [
        "We'll start by importing PyTorch and its related packages "
      ]
    },
    {
      "cell_type": "code",
      "execution_count": 1,
      "metadata": {
        "id": "tjwdORfGlgzH"
      },
      "outputs": [
        {
          "data": {
            "text/plain": [
              "'cpu'"
            ]
          },
          "execution_count": 1,
          "metadata": {},
          "output_type": "execute_result"
        }
      ],
      "source": [
        "import torch\n",
        "import torch.nn as nn \n",
        "import torch.optim as optim\n",
        "from torch.utils.data import Dataset, DataLoader\n",
        "\n",
        "import matplotlib.pyplot as plt\n",
        "\n",
        "# set default device based on CUDA's availability\n",
        "device = 'cuda' if torch.cuda.is_available() else 'cpu'\n",
        "device\n"
      ]
    },
    {
      "cell_type": "markdown",
      "metadata": {
        "id": "8O54qC3JNV9Y"
      },
      "source": [
        "We'll generate a synthetic dataset with known parameters so we can test if out Linear Regression Neural Network model will find the same parameters (which means close enough parameters since the model can't find the exact same parameters due to numerical precision)\n",
        "\n",
        "Do note that the target variable we're predicting is not the exact same as the function we have defined. This is because we inject Gaussian noise to the target variable Why? Because when observing a variable in the real world there's always a chance for observation error (like taking measurements using a microscope). We account for those changes (noise) by adding random numbers to each example, sampled from a normal (Gaussian) distrubution.\n",
        "\n",
        "We here choose a mean of 0 and a standard deviation of 0.1. Which means we multiply the output of torch.randn (which has a mean of 0 and a standard deviation of 1) by 0.1."
      ]
    },
    {
      "cell_type": "markdown",
      "metadata": {
        "id": "ypdgiwpNvk8V"
      },
      "source": [
        "**Q1: Define the X, Y and noise variables**"
      ]
    },
    {
      "cell_type": "code",
      "execution_count": 2,
      "metadata": {
        "id": "olsIAPU0LvfZ"
      },
      "outputs": [],
      "source": [
        "num_inputs = 2 #Number of features we'll generate\n",
        "num_outputs = 1 #We only have one output\n",
        "num_examples = 10_000 #We'll generate 10,000 examples\n",
        "dtype = torch.float\n",
        "\n",
        "#Define a function with 2 and -3.4 as parameters, 4.2 as bias\n",
        "def real_fn(X):\n",
        "    return 2 * X[:, 0] - 3.4 * X[:, 1] + 4.2\n",
        "\n",
        "#TODO: Generate training dataset consisting of random numbers\n",
        "#Use torch.randn to generate an array of shape (num_examples, num_inputs)\n",
        "X = torch.randn(num_examples, num_inputs)\n",
        "\n",
        "\n",
        "#TODO: Add some Gaussian noise to the dataset\n",
        "#Use torch.randn to generate an array of shape (num_examples)\n",
        "#Multiply that array by 0.1 to change the standard deviation of the noise to .1\n",
        "noise = torch.randn(num_examples) * 0.1\n",
        "#TODO: Generate target variable using our function and the noise\n",
        "# y is the output of applying real_fn to X and adding the noise\n",
        "# Also reshape y to be of shape (-1, 1)\n",
        "y = (real_fn(X)+noise).reshape(-1, 1)\n"
      ]
    },
    {
      "cell_type": "markdown",
      "metadata": {
        "id": "HtKCz1TeuziE"
      },
      "source": [
        "Now we can inspect the values of our training dataset and target variable, as well the true function we're predicting (without the added noise)"
      ]
    },
    {
      "cell_type": "code",
      "execution_count": 3,
      "metadata": {
        "id": "B1akcJ3-Lxv8"
      },
      "outputs": [
        {
          "name": "stdout",
          "output_type": "stream",
          "text": [
            "tensor([-0.4716,  0.1632])\n",
            "tensor([2.8440])\n",
            "tensor(2.7020)\n"
          ]
        }
      ],
      "source": [
        "print(X[0]) #Sample from training set\n",
        "print(y[0]) #Corresponding target variable\n",
        "print(2 * X[0, 0] - 3.4 * X[0, 1] + 4.2) #Actual function value\n"
      ]
    },
    {
      "cell_type": "markdown",
      "metadata": {
        "id": "1HpKFZrQyV4m"
      },
      "source": [
        "We can also plot our training dataset against the target variable"
      ]
    },
    {
      "cell_type": "code",
      "execution_count": 4,
      "metadata": {
        "id": "GRUDT0s5LzuM"
      },
      "outputs": [
        {
          "data": {
            "image/png": "[encoded data removed]",
            "text/plain": [
              "<Figure size 432x288 with 1 Axes>"
            ]
          },
          "metadata": {
            "needs_background": "light"
          },
          "output_type": "display_data"
        }
      ],
      "source": [
        "plt.scatter(X[:, 0].cpu().numpy(), y.cpu().numpy())\n",
        "plt.show()"
      ]
    },
    {
      "cell_type": "markdown",
      "metadata": {
        "id": "b7CK9iPFlv60"
      },
      "source": [
        "Next we'll define a very simple class to load the data, it loads the data, then defines the `__len__` method to get its size and the `__getitem__` method to get a single example and its ground truth"
      ]
    },
    {
      "cell_type": "code",
      "execution_count": 5,
      "metadata": {
        "id": "wmgfmh8uL00K"
      },
      "outputs": [],
      "source": [
        "class LinearDataset(Dataset):\n",
        "    def __init__(self, X, y):\n",
        "        assert X.size()[0] == y.size()[0]\n",
        "        self.X = X\n",
        "        self.y = y\n",
        "    \n",
        "    def __len__(self):\n",
        "        return X.size()[0]\n",
        "    \n",
        "    def __getitem__(self, idx):\n",
        "        return [X[idx], y[idx]]\n"
      ]
    },
    {
      "cell_type": "markdown",
      "metadata": {
        "id": "57zJc2_QyfK_"
      },
      "source": [
        "We'll use PyTorch's `DataLoader` class to generate the dataloader for our training data. We give it as input an instance of our dataset and specify the `batch_size` and set `shuffle=True` so that it provides batches in random order. "
      ]
    },
    {
      "cell_type": "code",
      "execution_count": 6,
      "metadata": {
        "id": "YDy_UQnNL3EV"
      },
      "outputs": [],
      "source": [
        "batch_size = 4\n",
        "train_dataloader = DataLoader(LinearDataset(X, y), batch_size=batch_size, shuffle=True)\n"
      ]
    },
    {
      "cell_type": "markdown",
      "metadata": {
        "id": "-0nQ2OSHy5c1"
      },
      "source": [
        "We can now loop through the dataloader to get batches of data at each iteration. "
      ]
    },
    {
      "cell_type": "code",
      "execution_count": 7,
      "metadata": {
        "id": "P8O6YtB0L4fM"
      },
      "outputs": [
        {
          "name": "stdout",
          "output_type": "stream",
          "text": [
            "tensor([[ 0.6365, -0.7384],\n",
            "        [-1.5601, -0.2775],\n",
            "        [ 0.5768,  0.6184],\n",
            "        [-0.2560, -0.3388]])\n",
            "tensor([[8.0119],\n",
            "        [1.9523],\n",
            "        [3.3534],\n",
            "        [4.9453]])\n"
          ]
        }
      ],
      "source": [
        "for i, (data, label) in enumerate(train_dataloader):\n",
        "    print(data)\n",
        "    print(label)\n",
        "    break\n"
      ]
    },
    {
      "cell_type": "markdown",
      "metadata": {
        "id": "KjXUd5SbzHIF"
      },
      "source": [
        "Do note that each time we loop through the data, it will have different order. That's because we've set shuffle=True. This helps the model become more robust as it gets batches in a different order in each epoch (pass through the training data so it reduces overfitting."
      ]
    },
    {
      "cell_type": "code",
      "execution_count": 8,
      "metadata": {
        "id": "D-gohynkL6Cc"
      },
      "outputs": [
        {
          "name": "stdout",
          "output_type": "stream",
          "text": [
            "tensor([[-1.1466, -0.7623],\n",
            "        [ 1.0321, -1.6122],\n",
            "        [ 0.6980, -1.4215],\n",
            "        [ 1.4459,  0.1429]])\n",
            "tensor([[ 4.4065],\n",
            "        [11.7944],\n",
            "        [10.3629],\n",
            "        [ 6.5146]])\n"
          ]
        }
      ],
      "source": [
        "for i, (data, label) in enumerate(train_dataloader):\n",
        "    print(data)\n",
        "    print(label)\n",
        "    break\n"
      ]
    },
    {
      "cell_type": "markdown",
      "metadata": {
        "id": "ICuWFKaPzng9"
      },
      "source": [
        "If we count how many iterations we go through in train_dataloader we find that it does 2500 iterations. That's because we have a total of 10,000 examples and a `batch_size` of 4. Changing the batch size should affect the number of iterations, which are generally `number of examples / batch_size`"
      ]
    },
    {
      "cell_type": "code",
      "execution_count": 9,
      "metadata": {
        "id": "FoC3d55vL75M"
      },
      "outputs": [
        {
          "name": "stdout",
          "output_type": "stream",
          "text": [
            "2500\n"
          ]
        }
      ],
      "source": [
        "counter = 0\n",
        "for i, (data, label) in enumerate(train_dataloader):\n",
        "    pass\n",
        "print(i + 1)\n"
      ]
    },
    {
      "cell_type": "markdown",
      "metadata": {
        "id": "ITiZ2_EI0BfV"
      },
      "source": [
        "**Q2: Define the Linear Regression model using Pytorch**"
      ]
    },
    {
      "cell_type": "code",
      "execution_count": 10,
      "metadata": {
        "id": "eghnXrEKL9Oc"
      },
      "outputs": [
        {
          "data": {
            "text/plain": [
              "LinearRegression(\n",
              "  (dense_1): Linear(in_features=2, out_features=1, bias=True)\n",
              ")"
            ]
          },
          "execution_count": 10,
          "metadata": {},
          "output_type": "execute_result"
        }
      ],
      "source": [
        "class LinearRegression(nn.Module):\n",
        "    def __init__(self, **kwargs):\n",
        "        super(LinearRegression, self).__init__(**kwargs)\n",
        "        #TODO: Use torch's nn.Linear to define a Linear layer \n",
        "        #The layer should have an input of shape 2 and an output of shape 1 \n",
        "        self.dense_1 = nn.Linear(2, 1)\n",
        "        \n",
        "    def forward(self, x):\n",
        "        #TODO: Call the self.dense_1 you just defined on x\n",
        "        x = self.dense_1(x)\n",
        "        return x\n",
        "    \n",
        "net = LinearRegression()#TODO: Instantiate the LinearRegression class you just defined\n",
        "net.to(device)\n"
      ]
    },
    {
      "cell_type": "markdown",
      "metadata": {
        "id": "04eG0Fel1CBn"
      },
      "source": [
        "**Q3: Use Mean Squared Error loss**"
      ]
    },
    {
      "cell_type": "code",
      "execution_count": 11,
      "metadata": {
        "id": "SQuFy87QL-gs"
      },
      "outputs": [],
      "source": [
        "loss_fn = nn.MSELoss() #TODO: use nn.MSELoss for the loss function\n"
      ]
    },
    {
      "cell_type": "markdown",
      "metadata": {
        "id": "thAjLAkH1HU0"
      },
      "source": [
        "**Q4: Use Stochastic Gradient Descent for optimizing the model**"
      ]
    },
    {
      "cell_type": "code",
      "execution_count": 13,
      "metadata": {
        "id": "3S-pwRXSL_vk"
      },
      "outputs": [],
      "source": [
        "optimizer = optim.SGD(net.parameters(), lr= 1e-5,momentum=0.9)#TODO: Use optim.SGD with learning rate = 1e-5 and a momentum of 0.9"
      ]
    },
    {
      "cell_type": "markdown",
      "metadata": {
        "id": "jUePzAzU1Vo2"
      },
      "source": [
        "**Q5: Complete the training loop and train the model**"
      ]
    },
    {
      "cell_type": "code",
      "execution_count": 27,
      "metadata": {
        "id": "tGjrvueiMArs"
      },
      "outputs": [
        {
          "name": "stdout",
          "output_type": "stream",
          "text": [
            "Epoch 0, loss: 5.558315691265464\n",
            "Epoch 1, loss: 2.045522131574154\n",
            "Epoch 2, loss: 0.7538032941907644\n",
            "Epoch 3, loss: 0.27881831742767244\n",
            "Epoch 4, loss: 0.10414453657148406\n",
            "Epoch 5, loss: 0.039897078270092604\n",
            "Epoch 6, loss: 0.01628271130514331\n",
            "Epoch 7, loss: 0.007600375100154633\n",
            "Epoch 8, loss: 0.004411281857496943\n",
            "Epoch 9, loss: 0.0032367374833658685\n"
          ]
        }
      ],
      "source": [
        "epochs = 10\n",
        "num_batches = num_examples / batch_size\n",
        "losses = []\n",
        "\n",
        "for epoch in range(epochs):\n",
        "    cumulative_loss = 0\n",
        "    # inner loop\n",
        "    for i, (data, label) in enumerate(train_dataloader):\n",
        "        data = data.to(device)\n",
        "        label = label.to(device)\n",
        "        \n",
        "        yhat = net(data)\n",
        "        loss = loss_fn(yhat, label) #TODO: Call the loss function you defined earlier\n",
        "        \n",
        "        #TODO: Call the zero_grad method of the optimizer you defined\n",
        "        #TODO: Call the backward method of the loss tensor you just calculated\n",
        "        #TODO: Call the step method of the optimizer \n",
        "\n",
        "        optimizer.zero_grad()\n",
        "        loss.backward()\n",
        "        optimizer.step()\n",
        "\n",
        "        cumulative_loss += loss.item()\n",
        "    print(\"Epoch %s, loss: %s\" % (epoch, cumulative_loss / num_examples))\n",
        "    losses.append(cumulative_loss / num_batches)\n"
      ]
    },
    {
      "cell_type": "markdown",
      "metadata": {
        "id": "vZ3Xc6Fv2Q5V"
      },
      "source": [
        "Now we can plot the average loss of the model for each epoch it trained."
      ]
    },
    {
      "cell_type": "code",
      "execution_count": 28,
      "metadata": {
        "id": "uABlACFUMCHE"
      },
      "outputs": [
        {
          "data": {
            "image/png": "[encoded data removed]",
            "text/plain": [
              "<Figure size 576x432 with 1 Axes>"
            ]
          },
          "metadata": {
            "needs_background": "light"
          },
          "output_type": "display_data"
        }
      ],
      "source": [
        "plt.figure(num=None, figsize=(8, 6))\n",
        "plt.plot(losses)\n",
        "\n",
        "plt.grid(True, which=\"both\")\n",
        "plt.xlabel('epoch', fontsize=14)\n",
        "plt.ylabel('average loss', fontsize=14)\n",
        "plt.show()\n"
      ]
    },
    {
      "cell_type": "markdown",
      "metadata": {
        "id": "1enpyDeo2Xwm"
      },
      "source": [
        "Finally we print the parameters of the model. Notice that while it didn't get the exact values we'd set (2,-3.4, and 4.2). It got very close. Of course this is becuase this is a synthetic dataset that's completely linear. Real-life datasets are never this clean, but this serves as a demonstration and introduction to Pytorch and how it can model Linear Regression."
      ]
    },
    {
      "cell_type": "code",
      "execution_count": 29,
      "metadata": {
        "id": "ybp28OMyMFy0"
      },
      "outputs": [
        {
          "name": "stdout",
          "output_type": "stream",
          "text": [
            "The type of \"params\" is a  <class 'generator'>\n",
            "dense_1.weight tensor([[ 1.9899, -3.3731]])\n",
            "dense_1.bias tensor([4.1711])\n"
          ]
        }
      ],
      "source": [
        "params = net.parameters()\n",
        "print('The type of \"params\" is a ', type(params))\n",
        "\n",
        "for name, param in net.named_parameters():\n",
        "    if param.requires_grad:\n",
        "        print(name, param.data)\n"
      ]
    },
    {
      "cell_type": "markdown",
      "metadata": {
        "id": "zh4nKe-O4aqU"
      },
      "source": [
        "Attribution: This task is based on this [notebook](https://github.com/Kulbear/pytorch-the-hard-way/blob/master/Linear%20Regression.ipynb)."
      ]
    }
  ],
  "metadata": {
    "colab": {
      "provenance": []
    },
    "kernelspec": {
      "display_name": "Python 3",
      "name": "python3"
    },
    "language_info": {
      "codemirror_mode": {
        "name": "ipython",
        "version": 3
      },
      "file_extension": ".py",
      "mimetype": "text/x-python",
      "name": "python",
      "nbconvert_exporter": "python",
      "pygments_lexer": "ipython3",
      "version": "3.10.0"
    }
  },
  "nbformat": 4,
  "nbformat_minor": 0
}
